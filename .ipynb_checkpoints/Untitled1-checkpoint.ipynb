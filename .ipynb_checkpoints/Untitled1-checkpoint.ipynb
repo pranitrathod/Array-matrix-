{
 "cells": [
  {
   "cell_type": "markdown",
   "id": "201e72c4",
   "metadata": {},
   "source": [
    "# LETS START WITH NUMPY!!!"
   ]
  },
  {
   "cell_type": "code",
   "execution_count": 1,
   "id": "6b4f470b",
   "metadata": {},
   "outputs": [],
   "source": [
    "import numpy as np"
   ]
  },
  {
   "cell_type": "code",
   "execution_count": 6,
   "id": "5941c628",
   "metadata": {},
   "outputs": [],
   "source": [
    "arr=np.array([1,2,3,455,5],np.int16)"
   ]
  },
  {
   "cell_type": "code",
   "execution_count": 7,
   "id": "0161419f",
   "metadata": {},
   "outputs": [
    {
     "data": {
      "text/plain": [
       "array([  1,   2,   3, 455,   5], dtype=int16)"
      ]
     },
     "execution_count": 7,
     "metadata": {},
     "output_type": "execute_result"
    }
   ],
   "source": [
    "arr"
   ]
  },
  {
   "cell_type": "code",
   "execution_count": null,
   "id": "ebf3e042",
   "metadata": {},
   "outputs": [],
   "source": []
  }
 ],
 "metadata": {
  "kernelspec": {
   "display_name": "Python 3 (ipykernel)",
   "language": "python",
   "name": "python3"
  },
  "language_info": {
   "codemirror_mode": {
    "name": "ipython",
    "version": 3
   },
   "file_extension": ".py",
   "mimetype": "text/x-python",
   "name": "python",
   "nbconvert_exporter": "python",
   "pygments_lexer": "ipython3",
   "version": "3.7.0"
  }
 },
 "nbformat": 4,
 "nbformat_minor": 5
}
